{
  "nbformat": 4,
  "nbformat_minor": 0,
  "metadata": {
    "colab": {
      "provenance": [],
      "collapsed_sections": [
        "MWe1Qk6kEWB4",
        "Hq5812PvEZSl",
        "IruGiiowEdFZ",
        "_MY2gK1eEgvz",
        "L7N-ymv4EkI1"
      ]
    },
    "kernelspec": {
      "name": "python3",
      "display_name": "Python 3"
    },
    "language_info": {
      "name": "python"
    }
  },
  "cells": [
    {
      "cell_type": "markdown",
      "source": [
        "# PREPROCESSING"
      ],
      "metadata": {
        "id": "8-MqNrrcE14F"
      }
    },
    {
      "cell_type": "markdown",
      "source": [
        "## Importazione delle librerie necessarie\n",
        "Iniziamo importando le librerie fondamentali per l'analisi dei dati e la visualizzazione."
      ],
      "metadata": {
        "id": "-y2_wKqrB0J9"
      }
    },
    {
      "cell_type": "code",
      "source": [
        "import numpy as np\n",
        "import pandas as pd\n",
        "import matplotlib.pyplot as plt\n",
        "import seaborn as sns\n",
        "\n",
        "# Configurazione delle opzioni di visualizzazione per i DataFrame\n",
        "pd.set_option('display.max_columns', None)\n",
        "\n",
        "# Ignorare i warning per mantenere l'output pulito\n",
        "import warnings\n",
        "warnings.filterwarnings('ignore')"
      ],
      "metadata": {
        "id": "P9DhCOPaB_IN"
      },
      "execution_count": null,
      "outputs": []
    },
    {
      "cell_type": "markdown",
      "source": [
        "## Caricamento del dataset\n",
        "Carichiamo il dataset `matches.csv` e visualizziamo le prime righe per avere un'idea del contenuto."
      ],
      "metadata": {
        "id": "1_hHcEdeCDnc"
      }
    },
    {
      "cell_type": "code",
      "source": [
        "# Caricamento del dataset\n",
        "df = pd.read_csv('matches.csv')\n",
        "\n",
        "# Visualizzazione delle prime righe del dataset\n",
        "print(\"Prime righe del dataset:\")\n",
        "print(df.head())"
      ],
      "metadata": {
        "id": "ElDWFgf6CJ1Z",
        "colab": {
          "base_uri": "https://localhost:8080/"
        },
        "outputId": "4c1b9789-89f5-4a3c-dde5-71477567db7e"
      },
      "execution_count": null,
      "outputs": [
        {
          "output_type": "stream",
          "name": "stdout",
          "text": [
            "Prime righe del dataset:\n",
            "   Unnamed: 0        date           time            comp        round  day  \\\n",
            "0           0  2020-09-21  20:15 (21:15)  Premier League  Matchweek 2  Mon   \n",
            "1           2  2020-09-27  16:30 (17:30)  Premier League  Matchweek 3  Sun   \n",
            "2           4  2020-10-03  17:30 (18:30)  Premier League  Matchweek 4  Sat   \n",
            "3           5  2020-10-17  17:30 (18:30)  Premier League  Matchweek 5  Sat   \n",
            "4           7  2020-10-24  12:30 (13:30)  Premier League  Matchweek 6  Sat   \n",
            "\n",
            "  venue result  gf  ga        opponent   xg  xga  poss  attendance  \\\n",
            "0  Away      W   3   1          Wolves  1.9  0.6    65         NaN   \n",
            "1  Home      L   2   5  Leicester City  0.9  2.9    72         NaN   \n",
            "2  Away      D   1   1    Leeds United  1.2  2.4    49         NaN   \n",
            "3  Home      W   1   0         Arsenal  1.3  0.9    58         NaN   \n",
            "4  Away      D   1   1        West Ham  1.0  0.3    69         NaN   \n",
            "\n",
            "           captain formation         referee  match report  notes  sh  sot  \\\n",
            "0      Fernandinho   4-2-3-1  Andre Marriner  Match Report    NaN  13    8   \n",
            "1      Fernandinho   4-2-3-1  Michael Oliver  Match Report    NaN  16    5   \n",
            "2  Kevin De Bruyne     4-3-3       Mike Dean  Match Report    NaN  23    1   \n",
            "3  Raheem Sterling   3-1-4-2  Chris Kavanagh  Match Report    NaN  13    5   \n",
            "4  Raheem Sterling     4-3-3  Anthony Taylor  Match Report    NaN  14    7   \n",
            "\n",
            "   dist  fk  pk  pkatt  season             team  \n",
            "0  21.1   2   1      1    2024  Manchester City  \n",
            "1  19.8   1   0      0    2024  Manchester City  \n",
            "2  18.2   1   0      0    2024  Manchester City  \n",
            "3  17.7   0   0      0    2024  Manchester City  \n",
            "4  20.9   1   0      0    2024  Manchester City  \n"
          ]
        }
      ]
    },
    {
      "cell_type": "markdown",
      "source": [
        "## Analisi preliminare del dataset\n",
        "Eseguiamo un'analisi preliminare per comprendere la struttura del dataset, inclusi i tipi di dati, i valori mancanti e le statistiche descrittive."
      ],
      "metadata": {
        "id": "i3v1mIVRCNrv"
      }
    },
    {
      "cell_type": "code",
      "source": [
        "# Statistiche descrittive del dataset\n",
        "print(\"\\nStatistiche descrittive:\")\n",
        "print(df.describe())\n",
        "\n",
        "# Informazioni generali sul dataset (tipi di dati, valori non nulli)\n",
        "print(\"\\nInformazioni sul dataset:\")\n",
        "print(df.info())"
      ],
      "metadata": {
        "id": "qu2LtN_FCPg6",
        "colab": {
          "base_uri": "https://localhost:8080/"
        },
        "outputId": "0dc07f0c-5f23-4ce1-a606-fb4553f2b1c8"
      },
      "execution_count": null,
      "outputs": [
        {
          "output_type": "stream",
          "name": "stdout",
          "text": [
            "\n",
            "Statistiche descrittive:\n",
            "        Unnamed: 0           gf           ga           xg          xga  \\\n",
            "count  4788.000000  4788.000000  4788.000000  4788.000000  4788.000000   \n",
            "mean     63.044069     1.447995     1.405388     1.396512     1.364745   \n",
            "std      42.865191     1.312635     1.286927     0.828847     0.814947   \n",
            "min       0.000000     0.000000     0.000000     0.000000     0.000000   \n",
            "25%      28.000000     0.000000     0.000000     0.800000     0.700000   \n",
            "50%      62.000000     1.000000     1.000000     1.300000     1.200000   \n",
            "75%      87.000000     2.000000     2.000000     1.900000     1.800000   \n",
            "max     182.000000     9.000000     9.000000     7.000000     7.000000   \n",
            "\n",
            "              poss    attendance  notes           sh          sot  \\\n",
            "count  4788.000000   3155.000000    0.0  4788.000000  4788.000000   \n",
            "mean     50.432957  38397.586688    NaN    12.619256     4.261278   \n",
            "std      12.810958  17595.849137    NaN     5.548444     2.459963   \n",
            "min      18.000000   2000.000000    NaN     0.000000     0.000000   \n",
            "25%      41.000000  25513.500000    NaN     9.000000     2.000000   \n",
            "50%      51.000000  36347.000000    NaN    12.000000     4.000000   \n",
            "75%      60.000000  53235.500000    NaN    16.000000     6.000000   \n",
            "max      82.000000  75546.000000    NaN    36.000000    15.000000   \n",
            "\n",
            "              dist           fk           pk       pkatt       season  \n",
            "count  4786.000000  4788.000000  4788.000000  4788.00000  4788.000000  \n",
            "mean     17.356247     0.453216     0.118212     0.14599  2022.365079  \n",
            "std       3.049341     0.665250     0.342362     0.37937     1.461850  \n",
            "min       5.300000     0.000000     0.000000     0.00000  2020.000000  \n",
            "25%      15.400000     0.000000     0.000000     0.00000  2021.000000  \n",
            "50%      17.200000     0.000000     0.000000     0.00000  2023.000000  \n",
            "75%      19.100000     1.000000     0.000000     0.00000  2024.000000  \n",
            "max      39.900000     4.000000     3.000000     3.00000  2024.000000  \n",
            "\n",
            "Informazioni sul dataset:\n",
            "<class 'pandas.core.frame.DataFrame'>\n",
            "RangeIndex: 4788 entries, 0 to 4787\n",
            "Data columns (total 28 columns):\n",
            " #   Column        Non-Null Count  Dtype  \n",
            "---  ------        --------------  -----  \n",
            " 0   Unnamed: 0    4788 non-null   int64  \n",
            " 1   date          4788 non-null   object \n",
            " 2   time          4788 non-null   object \n",
            " 3   comp          4788 non-null   object \n",
            " 4   round         4788 non-null   object \n",
            " 5   day           4788 non-null   object \n",
            " 6   venue         4788 non-null   object \n",
            " 7   result        4788 non-null   object \n",
            " 8   gf            4788 non-null   int64  \n",
            " 9   ga            4788 non-null   int64  \n",
            " 10  opponent      4788 non-null   object \n",
            " 11  xg            4788 non-null   float64\n",
            " 12  xga           4788 non-null   float64\n",
            " 13  poss          4788 non-null   int64  \n",
            " 14  attendance    3155 non-null   float64\n",
            " 15  captain       4788 non-null   object \n",
            " 16  formation     4788 non-null   object \n",
            " 17  referee       4788 non-null   object \n",
            " 18  match report  4788 non-null   object \n",
            " 19  notes         0 non-null      float64\n",
            " 20  sh            4788 non-null   int64  \n",
            " 21  sot           4788 non-null   int64  \n",
            " 22  dist          4786 non-null   float64\n",
            " 23  fk            4788 non-null   int64  \n",
            " 24  pk            4788 non-null   int64  \n",
            " 25  pkatt         4788 non-null   int64  \n",
            " 26  season        4788 non-null   int64  \n",
            " 27  team          4788 non-null   object \n",
            "dtypes: float64(5), int64(10), object(13)\n",
            "memory usage: 1.0+ MB\n",
            "None\n"
          ]
        }
      ]
    },
    {
      "cell_type": "markdown",
      "source": [
        "## Pulizia del dataset\n",
        "Rimuoviamo le colonne non necessarie e convertiamo alcune colonne in tipi di dati più appropriati per l'analisi."
      ],
      "metadata": {
        "id": "1a1Mtin5CR7C"
      }
    },
    {
      "cell_type": "code",
      "source": [
        "# Rimozione delle colonne non necessarie\n",
        "df.drop(columns=[\"Unnamed: 0\", \"comp\", \"round\", \"attendance\", \"match report\", \"notes\"], inplace=True)\n",
        "\n",
        "# Conversione della colonna 'date' in formato datetime\n",
        "df[\"date\"] = pd.to_datetime(df[\"date\"])\n",
        "\n",
        "# Conversione di alcune colonne in tipo 'category' per ottimizzare la memoria\n",
        "df['venue'] = df['venue'].astype('category')\n",
        "df['opponent'] = df['opponent'].astype('category')\n",
        "df['team'] = df['team'].astype('category')\n",
        "df['result'] = df['result'].astype('category')\n",
        "\n",
        "# Aggiunta di una colonna 'day' per il giorno della settimana\n",
        "df['day'] = df['date'].dt.day_name()\n",
        "\n",
        "# Estrazione dell'ora dalla colonna 'time'\n",
        "df[\"hour\"] = df[\"time\"].str.replace(\":.+\", \"\", regex=True).astype(\"int\")\n",
        "\n",
        "# Aggiunta di una colonna 'day_code' per il giorno della settimana (0 = Lunedì, 6 = Domenica)\n",
        "df[\"day_code\"] = df[\"date\"].dt.dayofweek\n",
        "\n",
        "# Verifica dei duplicati nel dataset\n",
        "print(\"\\nNumero di duplicati nel dataset:\", df.duplicated().sum())\n",
        "\n",
        "# Analisi delle formazioni più comuni\n",
        "print(\"\\nConteggio delle formazioni:\")\n",
        "print(df.formation.value_counts())"
      ],
      "metadata": {
        "id": "-oWMzRULCVes",
        "colab": {
          "base_uri": "https://localhost:8080/"
        },
        "outputId": "1a4f6a2d-a83f-4485-95a8-01cac6fef593"
      },
      "execution_count": null,
      "outputs": [
        {
          "output_type": "stream",
          "name": "stdout",
          "text": [
            "\n",
            "Numero di duplicati nel dataset: 0\n",
            "\n",
            "Conteggio delle formazioni:\n",
            "formation\n",
            "4-2-3-1       1382\n",
            "4-3-3         1025\n",
            "4-4-2          583\n",
            "3-4-3          548\n",
            "3-5-2          266\n",
            "4-1-4-1        258\n",
            "4-4-1-1        141\n",
            "3-4-1-2        113\n",
            "5-3-2          107\n",
            "5-4-1           99\n",
            "4-5-1           49\n",
            "4-3-1-2         47\n",
            "4-1-2-1-2◆      35\n",
            "4-2-2-2         29\n",
            "3-1-4-2         25\n",
            "4-3-2-1         22\n",
            "3-2-4-1         21\n",
            "3-3-3-1         17\n",
            "3-5-1-1         14\n",
            "3-4-3◆           3\n",
            "4-1-3-2          2\n",
            "4-2-4-0          2\n",
            "Name: count, dtype: int64\n"
          ]
        }
      ]
    },
    {
      "cell_type": "markdown",
      "source": [
        "## Pulizia e categorizzazione delle formazioni\n",
        "Puliamo la colonna `formation` e categorizziamo le formazioni meno comuni come \"Altro\"."
      ],
      "metadata": {
        "id": "IFVtRUURCXa5"
      }
    },
    {
      "cell_type": "code",
      "source": [
        "# Rimozione di caratteri speciali dalla colonna 'formation'\n",
        "df.formation = df.formation.str.replace(\"◆\", \"\")\n",
        "df.formation = df.formation.str.replace(\"-0\", \"\")\n",
        "\n",
        "# Categorizzazione delle formazioni meno comuni come \"Altro\"\n",
        "value_counts = df.formation.value_counts()\n",
        "to_replace = value_counts[value_counts < 107].index\n",
        "df['formation'] = df['formation'].replace(to_replace, 'Altro')\n",
        "\n",
        "# Verifica delle formazioni dopo la pulizia\n",
        "print(\"\\nConteggio delle formazioni dopo la pulizia:\")\n",
        "print(df.formation.value_counts())"
      ],
      "metadata": {
        "id": "td2UnOuyCcnH",
        "colab": {
          "base_uri": "https://localhost:8080/"
        },
        "outputId": "77736aab-1db9-4853-9050-bba934c2d926"
      },
      "execution_count": null,
      "outputs": [
        {
          "output_type": "stream",
          "name": "stdout",
          "text": [
            "\n",
            "Conteggio delle formazioni dopo la pulizia:\n",
            "formation\n",
            "4-2-3-1    1382\n",
            "4-3-3      1025\n",
            "4-4-2       583\n",
            "3-4-3       551\n",
            "Altro       362\n",
            "3-5-2       266\n",
            "4-1-4-1     258\n",
            "4-4-1-1     141\n",
            "3-4-1-2     113\n",
            "5-3-2       107\n",
            "Name: count, dtype: int64\n"
          ]
        }
      ]
    },
    {
      "cell_type": "markdown",
      "source": [
        "## Gestione delle stagioni\n",
        "Aggiustiamo la colonna `season` per riflettere correttamente l'anno della stagione calcistica."
      ],
      "metadata": {
        "id": "yF0u4xLJCem0"
      }
    },
    {
      "cell_type": "code",
      "source": [
        "# Funzione per determinare la stagione corretta in base alla data\n",
        "def get_correct_season(date):\n",
        "    if isinstance(date, str):\n",
        "        date = pd.to_datetime(date)\n",
        "    if date.month >= 8:\n",
        "        return date.year + 1\n",
        "    else:\n",
        "        return date.year\n",
        "\n",
        "# Applicazione della funzione alla colonna 'date'\n",
        "df['season'] = df['date'].apply(get_correct_season)\n",
        "\n",
        "# Conteggio delle partite per stagione\n",
        "print(\"\\nConteggio delle partite per stagione:\")\n",
        "print(df['season'].value_counts().sort_index())"
      ],
      "metadata": {
        "id": "KqrkSUjUCiwK",
        "colab": {
          "base_uri": "https://localhost:8080/"
        },
        "outputId": "5893aefb-8aea-4bd6-d58b-74f08155eb51"
      },
      "execution_count": null,
      "outputs": [
        {
          "output_type": "stream",
          "name": "stdout",
          "text": [
            "\n",
            "Conteggio delle partite per stagione:\n",
            "season\n",
            "2020     988\n",
            "2021    1520\n",
            "2022     760\n",
            "2023     760\n",
            "2024     760\n",
            "Name: count, dtype: int64\n"
          ]
        }
      ]
    },
    {
      "cell_type": "markdown",
      "source": [
        "## Calcolo dei punti e dei vincitori della stagione\n",
        "Aggiungiamo una colonna `points` per i punti ottenuti in ogni partita e determiniamo i vincitori di ogni stagione."
      ],
      "metadata": {
        "id": "DlF7YYbVCkRB"
      }
    },
    {
      "cell_type": "code",
      "source": [
        "# Assegnazione dei punti in base al risultato (W = 3, D = 1, L = 0)\n",
        "df['points'] = df['result'].apply(lambda x: 3 if x == 'W' else 1 if x == 'D' else 0)\n",
        "df['points'] = df['points'].astype('int')\n",
        "\n",
        "# Calcolo dei vincitori di ogni stagione\n",
        "winners = df.groupby(['season', 'team'], observed=False)['points'].sum().reset_index() \\\n",
        "  .sort_values(['season', 'points'], ascending=[True, False]) \\\n",
        "  .groupby('season', observed=False).first()\n",
        "\n",
        "# Aggiunta della colonna 'season_winner' per indicare il vincitore della stagione\n",
        "df['season_winner'] = df['season'].map(winners['team'])"
      ],
      "metadata": {
        "id": "ciy8WU3_Cm3Q"
      },
      "execution_count": null,
      "outputs": []
    },
    {
      "cell_type": "markdown",
      "source": [
        "## Analisi dei capitani\n",
        "Analizziamo i capitani delle squadre e rimuoviamo i valori mancanti."
      ],
      "metadata": {
        "id": "yv9UgqysCpH_"
      }
    },
    {
      "cell_type": "code",
      "source": [
        "# Funzione per gestire i valori mancanti nella colonna 'captain'\n",
        "def captains_func(data):\n",
        "    if data['count'] == 0:\n",
        "        data['count'] = np.nan\n",
        "    return data\n",
        "\n",
        "# Conteggio dei capitani per squadra\n",
        "group = df.groupby('team', observed=False)['captain'].value_counts().reset_index(name='count')\n",
        "group = group.apply(captains_func, axis=1)\n",
        "group.dropna(inplace=True)\n",
        "group = group.drop(columns='count')\n",
        "\n",
        "# Esempio: Capitani del Liverpool\n",
        "print(\"\\nCapitani del Liverpool:\")\n",
        "print(group[group['team'] == 'Liverpool'])"
      ],
      "metadata": {
        "id": "MwiV6XerCq-k",
        "colab": {
          "base_uri": "https://localhost:8080/"
        },
        "outputId": "f40842c0-1fde-4335-92a6-2cb6d8dddf5d"
      },
      "execution_count": null,
      "outputs": [
        {
          "output_type": "stream",
          "name": "stdout",
          "text": [
            "\n",
            "Capitani del Liverpool:\n",
            "           team                 captain\n",
            "2136  Liverpool        Jordan Henderson\n",
            "2137  Liverpool         Virgil van Dijk\n",
            "2138  Liverpool            James Milner\n",
            "2139  Liverpool     Georginio Wijnaldum\n",
            "2140  Liverpool        Andrew Robertson\n",
            "2141  Liverpool         Roberto Firmino\n",
            "2142  Liverpool  Trent Alexander-Arnold\n"
          ]
        }
      ]
    },
    {
      "cell_type": "markdown",
      "source": [
        "## Ordinamento del dataset\n",
        "Ordiniamo il dataset per squadra e data per facilitare l'analisi temporale."
      ],
      "metadata": {
        "id": "6NoDUHpCCsXy"
      }
    },
    {
      "cell_type": "code",
      "source": [
        "# Conversione della colonna 'date' in formato datetime (se non già fatto)\n",
        "df['date'] = pd.to_datetime(df['date'])\n",
        "\n",
        "# Ordinamento del dataset per squadra e data\n",
        "df_sorted = df.sort_values(['team', 'date'])\n",
        "\n",
        "# Reset dell'indice per riflettere il nuovo ordine\n",
        "df_sorted = df_sorted.reset_index(drop=True)\n",
        "\n",
        "# Funzione per verificare l'ordinamento corretto\n",
        "def verify_sorting(data):\n",
        "    is_sorted = data.groupby('team', observed=False)['date'].is_monotonic_increasing.all()\n",
        "    if is_sorted:\n",
        "        print(\"Data is correctly sorted by date for each team.\")\n",
        "    else:\n",
        "        print(\"WARNING: Data is not correctly sorted. Please check for inconsistencies.\")\n",
        "\n",
        "# Verifica dell'ordinamento\n",
        "verify_sorting(df_sorted)"
      ],
      "metadata": {
        "id": "E098P-c5CuG-",
        "colab": {
          "base_uri": "https://localhost:8080/"
        },
        "outputId": "331a4357-5840-4964-95e7-0ba5704da834"
      },
      "execution_count": null,
      "outputs": [
        {
          "output_type": "stream",
          "name": "stdout",
          "text": [
            "Data is correctly sorted by date for each team.\n"
          ]
        }
      ]
    },
    {
      "cell_type": "markdown",
      "source": [
        "## Calcolo delle metriche avanzate\n",
        "Calcoliamo metriche avanzate come il rapporto tra calci piazzati e tiri (`fk_ratio`) e il tasso di conversione dei rigori (`pk_conversion_rate`)."
      ],
      "metadata": {
        "id": "OmTz8w3OCwfE"
      }
    },
    {
      "cell_type": "code",
      "source": [
        "# Conversione delle colonne numeriche in tipo float\n",
        "num_cols = ['sh', 'sot', 'dist', 'fk', 'pk', 'pkatt', 'xga', 'xg', 'gf', 'ga']\n",
        "for col in num_cols:\n",
        "    df_sorted[col] = pd.to_numeric(df_sorted[col])\n",
        "\n",
        "# Funzione per calcolare le metriche avanzate\n",
        "def calculate_fk_pk_ratios(data):\n",
        "    data['fk_ratio'] = data['fk'] / data['sh']\n",
        "    data['pk_conversion_rate'] = data['pk'] / data['pkatt']\n",
        "    data['pk_per_shot'] = data['pkatt'] / data['sh']\n",
        "\n",
        "    # Gestione dei valori infiniti\n",
        "    data['fk_ratio'] = data['fk_ratio'].replace([np.inf, -np.inf], np.nan)\n",
        "    data['pk_conversion_rate'] = data['pk_conversion_rate'].replace([np.inf, -np.inf], np.nan)\n",
        "    data['pk_per_shot'] = data['pk_per_shot'].replace([np.inf, -np.inf], np.nan)\n",
        "\n",
        "    # Conversione in percentuali\n",
        "    data['fk_percentage'] = data['fk_ratio'] * 100\n",
        "    data['pk_conversion_percentage'] = data['pk_conversion_rate'] * 100\n",
        "    data['pk_per_shot_percentage'] = data['pk_per_shot'] * 100\n",
        "\n",
        "    return data\n",
        "\n",
        "# Applicazione della funzione\n",
        "df_sorted = calculate_fk_pk_ratios(df_sorted)\n",
        "\n",
        "# Rimozione delle colonne non necessarie\n",
        "df_sorted.drop(['pk_conversion_rate', 'pk_conversion_percentage'], axis=1, inplace=True)"
      ],
      "metadata": {
        "id": "xga-QIcoCxqX"
      },
      "execution_count": null,
      "outputs": []
    },
    {
      "cell_type": "markdown",
      "source": [
        "## Visualizzazione delle distribuzioni\n",
        "Visualizziamo le distribuzioni delle metriche calcolate utilizzando istogrammi e boxplot."
      ],
      "metadata": {
        "id": "EHl5Flf0CzG5"
      }
    },
    {
      "cell_type": "code",
      "source": [
        "# Creazione di una figura con 4 subplot\n",
        "fig, axs = plt.subplots(2, 2, figsize=(12, 6))\n",
        "i = 0\n",
        "for col in ['fk_ratio', 'pk_per_shot', 'fk_percentage', 'pk_per_shot_percentage']:\n",
        "    sns.histplot(df_sorted[col], kde=True, ax=axs.flatten()[i])\n",
        "    axs.flatten()[i].set_title('Distribuzione di ' + col)\n",
        "    i += 1\n",
        "\n",
        "plt.tight_layout()\n",
        "plt.show()\n",
        "\n",
        "# Boxplot per le stesse metriche\n",
        "fig, axs = plt.subplots(2, 2, figsize=(12, 6))\n",
        "i = 0\n",
        "for col in ['fk_ratio', 'pk_per_shot', 'fk_percentage', 'pk_per_shot_percentage']:\n",
        "    sns.boxplot(x=df_sorted[col], ax=axs.flatten()[i])\n",
        "    axs.flatten()[i].set_title('Distribuzione di ' + col)\n",
        "    i += 1\n",
        "\n",
        "# Statistiche descrittive delle metriche\n",
        "print(\"\\nStatistiche delle metriche calcolate:\")\n",
        "print(df_sorted[['fk_ratio', 'pk_per_shot', 'fk_percentage', 'pk_per_shot_percentage']].agg(['mean', 'min', 'max']))\n",
        "\n",
        "plt.tight_layout()\n",
        "plt.show()"
      ],
      "metadata": {
        "id": "UkEDAGoaC1lb",
        "colab": {
          "base_uri": "https://localhost:8080/",
          "height": 785
        },
        "outputId": "fda46586-8090-43f0-b74e-7d6bbc63c109"
      },
      "execution_count": null,
      "outputs": [
        {
          "output_type": "display_data",
          "data": {
            "text/plain": [
              "<Figure size 1200x600 with 4 Axes>"
            ],
            "image/png": "[encoded data removed]"
          },
          "metadata": {}
        },
        {
          "output_type": "stream",
          "name": "stdout",
          "text": [
            "\n",
            "Statistiche delle metriche calcolate:\n",
            "      fk_ratio  pk_per_shot  fk_percentage  pk_per_shot_percentage\n",
            "mean  0.037938     0.013427       3.793808                 1.34271\n",
            "min   0.000000     0.000000       0.000000                 0.00000\n",
            "max   1.000000     0.750000     100.000000                75.00000\n"
          ]
        },
        {
          "output_type": "display_data",
          "data": {
            "text/plain": [
              "<Figure size 1200x600 with 4 Axes>"
            ],
            "image/png": "[encoded data removed]"
          },
          "metadata": {}
        }
      ]
    },
    {
      "cell_type": "markdown",
      "source": [
        "## Calcolo delle medie mobili\n",
        "Calcoliamo le medie mobili per metriche come `xg`, `xga`, `poss`, `sh`, `sot` e `dist`."
      ],
      "metadata": {
        "id": "wKEsNqIZC3He"
      }
    },
    {
      "cell_type": "code",
      "source": [
        "# Funzione per calcolare la media mobile\n",
        "def calculate_rolling_average(data, column, window=5):\n",
        "    return data.groupby('team', observed=False)[column].transform(\n",
        "        lambda x: x.rolling(window=window, min_periods=1).mean()\n",
        "    )\n",
        "\n",
        "# Applicazione della funzione alle colonne selezionate\n",
        "df_sorted['rolling_xg'] = calculate_rolling_average(df_sorted, 'xg')\n",
        "df_sorted['rolling_xga'] = calculate_rolling_average(df_sorted, 'xga')\n",
        "df_sorted['rolling_poss'] = calculate_rolling_average(df_sorted, 'poss')\n",
        "df_sorted['rolling_sh'] = calculate_rolling_average(df_sorted, 'sh')\n",
        "df_sorted['rolling_sot'] = calculate_rolling_average(df_sorted, 'sot')\n",
        "df_sorted['rolling_dist'] = calculate_rolling_average(df_sorted, 'dist')\n",
        "\n",
        "# Codifica del risultato in valori numerici (W = 1, D = 0, L = -1)\n",
        "df_sorted['result_encoded'] = pd.to_numeric(df_sorted['result'].map({'W': 1, 'D': 0, 'L': -1}))\n",
        "\n",
        "# Calcolo della forma (media mobile dei risultati)\n",
        "df_sorted['form'] = calculate_rolling_average(df_sorted, 'result_encoded')\n",
        "\n",
        "# Calcolo della differenza reti e della sua media mobile\n",
        "df_sorted['goal_diff'] = df_sorted['gf'] - df_sorted['ga']\n",
        "df_sorted['rolling_goal_diff'] = calculate_rolling_average(df_sorted, 'goal_diff')"
      ],
      "metadata": {
        "id": "nBnSvEnrC63Z"
      },
      "execution_count": null,
      "outputs": []
    },
    {
      "cell_type": "markdown",
      "source": [
        "## Aggiunta del confronto diretto (head-to-head)\n",
        "Aggiungiamo una colonna per il confronto diretto tra squadre."
      ],
      "metadata": {
        "id": "SxE7YgjaC9yu"
      }
    },
    {
      "cell_type": "code",
      "source": [
        "# Funzione per calcolare il confronto diretto\n",
        "def get_head_to_head(data):\n",
        "    h2h = data.groupby(['team', 'opponent'], observed=False)['result_encoded'].mean().reset_index()\n",
        "    h2h = h2h.rename(columns={'result_encoded': 'h2h_record'})\n",
        "    result = pd.merge(data, h2h, on=['team', 'opponent'], how='left')\n",
        "    return result\n",
        "\n",
        "# Applicazione della funzione\n",
        "df_sorted = get_head_to_head(df_sorted)"
      ],
      "metadata": {
        "id": "2_dusGQ1C_Px"
      },
      "execution_count": null,
      "outputs": []
    },
    {
      "cell_type": "markdown",
      "source": [
        "## Aggiunta di informazioni temporali\n",
        "Aggiungiamo informazioni sul giorno della settimana e sulla fascia oraria delle partite."
      ],
      "metadata": {
        "id": "0jQ7xOPADBwF"
      }
    },
    {
      "cell_type": "code",
      "source": [
        "# Conversione della data in giorno della settimana (0 = Lunedì, 6 = Domenica)\n",
        "df_sorted['day_of_week'] = pd.to_datetime(df_sorted['date']).dt.dayofweek\n",
        "\n",
        "# Funzione per categorizzare l'orario delle partite\n",
        "def categorize_time(time):\n",
        "    hour = pd.to_datetime(time).hour\n",
        "    if hour < 12:\n",
        "        return 'early'\n",
        "    elif hour < 17:\n",
        "        return 'afternoon'\n",
        "    else:\n",
        "        return 'evening'\n",
        "\n",
        "# Pulizia della colonna 'time' e applicazione della categorizzazione\n",
        "df_sorted['time'] = df_sorted['time'].apply(lambda x: x.split(' ')[0])\n",
        "df_sorted['time_condition'] = df_sorted['time'].apply(categorize_time)\n",
        "\n",
        "# Conteggio delle partite per fascia oraria\n",
        "print(\"\\nConteggio delle partite per fascia oraria:\")\n",
        "print(df_sorted['time_condition'].value_counts())"
      ],
      "metadata": {
        "id": "bmfPER8lDC5f",
        "colab": {
          "base_uri": "https://localhost:8080/"
        },
        "outputId": "17a899a4-5088-4702-eb08-34fe25353ebe"
      },
      "execution_count": null,
      "outputs": [
        {
          "output_type": "stream",
          "name": "stdout",
          "text": [
            "\n",
            "Conteggio delle partite per fascia oraria:\n",
            "time_condition\n",
            "afternoon    2783\n",
            "evening      2005\n",
            "Name: count, dtype: int64\n"
          ]
        }
      ]
    },
    {
      "cell_type": "markdown",
      "source": [
        "## Calcolo dei giorni trascorsi dall'ultima partita\n",
        "Aggiungiamo una colonna per calcolare i giorni trascorsi dall'ultima partita di ogni squadra."
      ],
      "metadata": {
        "id": "XMOdB77gDFwQ"
      }
    },
    {
      "cell_type": "code",
      "source": [
        "# Calcolo dei giorni trascorsi dall'ultima partita\n",
        "df_sorted['days_since_last_match'] = df_sorted.groupby('team', observed=False)['date'].diff().dt.days\n",
        "df_sorted['days_since_last_match'] = df_sorted['days_since_last_match'].fillna(0)"
      ],
      "metadata": {
        "id": "XrMlJAHDDHje"
      },
      "execution_count": null,
      "outputs": []
    },
    {
      "cell_type": "markdown",
      "source": [
        "## Salvataggio del dataset pre-processato\n",
        "Salviamo il dataset pre-processato in un file CSV per l'utilizzo successivo."
      ],
      "metadata": {
        "id": "yzMYgXPuDJmM"
      }
    },
    {
      "cell_type": "code",
      "source": [
        "# Salvataggio del dataset pre-processato\n",
        "df_sorted.to_csv('matches_final.csv', index=False)"
      ],
      "metadata": {
        "id": "b1T3DRvQDK5T"
      },
      "execution_count": null,
      "outputs": []
    },
    {
      "cell_type": "markdown",
      "source": [
        "## Preparazione per il training\n",
        "Rimuoviamo le colonne non necessarie e separiamo il dataset in training e test set."
      ],
      "metadata": {
        "id": "jw6L8qQRDMmY"
      }
    },
    {
      "cell_type": "code",
      "source": [
        "# Rimozione delle colonne non necessarie\n",
        "columns_to_drop = ['gf', 'ga', 'xg', 'xga', 'poss', 'sh', 'sot',\n",
        "                   'goal_diff', 'day', 'pk', 'pkatt', 'fk',\n",
        "                   'referee', 'dist','points', 'season_winner', 'hour', 'result_encoded', 'day_code']\n",
        "df_sorted = df_sorted.drop(columns=columns_to_drop)\n",
        "\n",
        "# Selezione delle colonne numeriche e categoriche\n",
        "num_cols = df_sorted.select_dtypes(include=np.number).columns\n",
        "num_cols = num_cols.drop(['season'])\n",
        "num_cols = num_cols.tolist()\n",
        "cat_cols = df_sorted.select_dtypes(exclude=np.number).columns\n",
        "cat_cols = cat_cols.drop(['result', 'date'])\n",
        "cat_cols = cat_cols.tolist()\n",
        "predictors = num_cols + cat_cols\n",
        "\n",
        "# Divisione del dataset in training e test set\n",
        "train = df_sorted[df_sorted[\"season\"] <= 2023]\n",
        "test = df_sorted[df_sorted[\"season\"] > 2023]\n",
        "\n",
        "# Salvataggio dei dataset\n",
        "train.to_csv(\"training_set.csv\", index=False)\n",
        "test.to_csv(\"test_set.csv\", index=False)\n",
        "\n",
        "# Conteggio delle partite per stagione\n",
        "print(\"\\nConteggio delle partite per stagione:\")\n",
        "print(df_sorted[\"season\"].value_counts())"
      ],
      "metadata": {
        "id": "-0pjRH_mDQAu",
        "colab": {
          "base_uri": "https://localhost:8080/"
        },
        "outputId": "2e12cd71-cfd4-4645-ebf5-e48c90b605e2"
      },
      "execution_count": null,
      "outputs": [
        {
          "output_type": "stream",
          "name": "stdout",
          "text": [
            "\n",
            "Conteggio delle partite per stagione:\n",
            "season\n",
            "2021    1520\n",
            "2020     988\n",
            "2022     760\n",
            "2023     760\n",
            "2024     760\n",
            "Name: count, dtype: int64\n"
          ]
        }
      ]
    },
    {
      "cell_type": "markdown",
      "source": [
        "# TRAINING"
      ],
      "metadata": {
        "id": "BRr9usUiDgTZ"
      }
    },
    {
      "cell_type": "markdown",
      "source": [
        "## Importazione delle librerie necessarie\n",
        "Iniziamo importando le librerie fondamentali per il training del modello, la preelaborazione dei dati e la valutazione delle prestazioni."
      ],
      "metadata": {
        "id": "neQduQzJDmdU"
      }
    },
    {
      "cell_type": "code",
      "source": [
        "import pandas as pd\n",
        "from sklearn.model_selection import train_test_split\n",
        "from sklearn.preprocessing import OneHotEncoder, StandardScaler\n",
        "from keras.utils import to_categorical\n",
        "import numpy as np\n",
        "import tensorflow as tf\n",
        "from tensorflow import keras\n",
        "from tensorflow.keras import layers\n",
        "from sklearn.metrics import classification_report\n",
        "from sklearn.preprocessing import StandardScaler, MinMaxScaler\n",
        "import pickle\n",
        "from matplotlib import pyplot as plt\n",
        "from sklearn.preprocessing import LabelEncoder\n",
        "from sklearn.linear_model import LogisticRegression, SGDClassifier, RidgeClassifier\n",
        "from sklearn.metrics import accuracy_score, confusion_matrix, classification_report, roc_auc_score, roc_curve, auc\n",
        "import itertools"
      ],
      "metadata": {
        "id": "1m_QBc2xDq09"
      },
      "execution_count": null,
      "outputs": []
    },
    {
      "cell_type": "markdown",
      "source": [
        "## Caricamento e preparazione del dataset\n",
        "Carichiamo il dataset pre-processato (`matches_final.csv`) e rimuoviamo le colonne non necessarie. Successivamente, separiamo le variabili categoriche da quelle numeriche."
      ],
      "metadata": {
        "id": "PrWDjYm2Dsc3"
      }
    },
    {
      "cell_type": "code",
      "source": [
        "# Caricamento del dataset pre-processato\n",
        "tr = pd.read_csv(\"matches_final.csv\", index_col=False)\n",
        "\n",
        "# Rimozione delle colonne non necessarie\n",
        "columns_to_drop = ['gf', 'ga', 'xg', 'xga', 'poss', 'sh', 'sot',\n",
        "                   'goal_diff', 'day', 'pk', 'pkatt', 'fk',\n",
        "                   'referee', 'dist','points', 'season_winner', 'hour', 'result_encoded', 'day_code']\n",
        "tr = tr.drop(columns=columns_to_drop)\n",
        "\n",
        "# Selezione delle colonne numeriche e categoriche\n",
        "num_cols = tr.select_dtypes(include=np.number).columns\n",
        "num_cols = num_cols.drop(['season'])\n",
        "num_cols = num_cols.tolist()\n",
        "cat_cols = tr.select_dtypes(exclude=np.number).columns\n",
        "cat_cols = cat_cols.drop(['result', 'date'])\n",
        "\n",
        "# Rimozione delle righe con valori mancanti\n",
        "tr.dropna(inplace=True)\n",
        "\n",
        "# Pulizia dei nomi delle colonne\n",
        "tr.columns = tr.columns.str.strip()\n",
        "tr = tr[tr.columns.tolist()[1:]]\n",
        "\n",
        "# Categorizzazione della colonna 'time'\n",
        "tr['time'] = tr['time'].astype('category')\n",
        "value_counts = tr.time.value_counts()\n",
        "to_replace = value_counts[value_counts < 102].index\n",
        "tr['time'] = tr['time'].replace(to_replace, 'Altro')\n",
        "\n",
        "# Aggiornamento delle colonne categoriche e numeriche\n",
        "cat_cols = tr.select_dtypes(exclude=np.number).columns.tolist()\n",
        "num_cols = tr.select_dtypes(include=np.number).columns.tolist()\n",
        "predictors = num_cols + cat_cols"
      ],
      "metadata": {
        "id": "TPlAorQ-DuxV"
      },
      "execution_count": null,
      "outputs": []
    },
    {
      "cell_type": "markdown",
      "source": [
        "## Preparazione delle feature e del target\n",
        "Separiamo le feature (`X`) dal target (`y`) e applichiamo la codifica one-hot alle variabili categoriche e la standardizzazione a quelle numeriche."
      ],
      "metadata": {
        "id": "fsXx4uTWDwxL"
      }
    },
    {
      "cell_type": "code",
      "source": [
        "# Separazione delle feature (X) e del target (y)\n",
        "X = tr.drop('result', axis=1)\n",
        "y = tr['result']\n",
        "\n",
        "# Identificazione delle colonne categoriche e numeriche\n",
        "categorical_cols = X.select_dtypes(include=['object', 'category']).columns.tolist()\n",
        "numerical_cols = X.select_dtypes(include=['float64', 'int64']).columns.tolist()\n",
        "\n",
        "# One-Hot Encoding per le variabili categoriche\n",
        "X_categorical_encoded = pd.get_dummies(X[categorical_cols], columns=categorical_cols)\n",
        "\n",
        "# Standardizzazione delle variabili numeriche\n",
        "scaler = StandardScaler()\n",
        "X_numerical_scaled = pd.DataFrame(scaler.fit_transform(X[numerical_cols]), columns=numerical_cols)\n",
        "\n",
        "# Unione delle variabili categoriche codificate e numeriche standardizzate\n",
        "X_categorical_encoded = X_categorical_encoded.reset_index(drop=True)\n",
        "X_numerical_scaled = X_numerical_scaled.reset_index(drop=True)\n",
        "X_final = pd.concat([X_categorical_encoded, X_numerical_scaled], axis=1)\n",
        "\n",
        "# Codifica del target (y) in valori numerici\n",
        "label_encoder = LabelEncoder()\n",
        "y_encoded = label_encoder.fit_transform(y)"
      ],
      "metadata": {
        "id": "yPYVLrwiDyfM"
      },
      "execution_count": null,
      "outputs": []
    },
    {
      "cell_type": "markdown",
      "source": [
        "## Creazione del test set\n",
        "Separiamo l'ultima stagione come test set e salviamo i dati in un file CSV."
      ],
      "metadata": {
        "id": "ZbBYKdPPDz9L"
      }
    },
    {
      "cell_type": "code",
      "source": [
        "# Creazione del test set (ultima stagione)\n",
        "test_x = X_final.tail(761)\n",
        "test_y = y_encoded[-761:]\n",
        "test_x['result'] = test_y\n",
        "test_x.to_csv(\"test_set.csv\", index=False)\n",
        "\n",
        "# Rimozione dell'ultima stagione dal training set\n",
        "X_final = X_final.iloc[:-761]\n",
        "y_encoded = y_encoded[:-761]"
      ],
      "metadata": {
        "id": "UO9UPrSDD1Sg"
      },
      "execution_count": null,
      "outputs": []
    },
    {
      "cell_type": "markdown",
      "source": [
        "## Divisione in training e validation set\n",
        "Dividiamo il dataset in training set (80%) e validation set (20%)."
      ],
      "metadata": {
        "id": "CgLbz1gFD3Ut"
      }
    },
    {
      "cell_type": "code",
      "source": [
        "# Divisione in training e validation set\n",
        "X_train, X_val, y_train, y_val = train_test_split(X_final, y_encoded, test_size=0.2, random_state=42)"
      ],
      "metadata": {
        "id": "JrydqNC_D4cU"
      },
      "execution_count": null,
      "outputs": []
    },
    {
      "cell_type": "markdown",
      "source": [
        "## Definizione del modello di rete neurale\n",
        "Definiamo una funzione per creare una rete neurale con parametri variabili."
      ],
      "metadata": {
        "id": "GoV2tvusD51D"
      }
    },
    {
      "cell_type": "code",
      "source": [
        "# Funzione per creare una rete neurale\n",
        "def create_network(input_dim, neurons_1layer, neurons_2layer, activation_function):\n",
        "    inputs = tf.keras.Input((input_dim,))\n",
        "    x = layers.Dense(neurons_1layer, activation_function)(inputs)\n",
        "    x = layers.Dense(neurons_2layer, activation_function)(x)\n",
        "    x = layers.Dropout(0.1)(x)\n",
        "    output = layers.Dense(3, \"softmax\")(x)\n",
        "    model = tf.keras.Model(inputs=inputs, outputs=output, name=\"neural_net\")\n",
        "    return model"
      ],
      "metadata": {
        "id": "LO-72SoRD8Kp"
      },
      "execution_count": null,
      "outputs": []
    },
    {
      "cell_type": "markdown",
      "source": [
        "## Ricerca degli iperparametri ottimali\n",
        "Eseguiamo una ricerca a griglia per trovare la combinazione ottimale di iperparametri."
      ],
      "metadata": {
        "id": "D8LTa9klD950"
      }
    },
    {
      "cell_type": "code",
      "source": [
        "# Griglia di iperparametri\n",
        "GRID_SEARCH = {\n",
        "    \"learning_rate\": [1e-3],\n",
        "    \"epochs\": [5, 6, 7, 8, 9, 10],\n",
        "    \"neurons_1layer\": [50, 55],\n",
        "    \"neurons_2layer\": [30, 50],\n",
        "    \"activation_functions\": ['relu', 'sigmoid', 'tanh'],\n",
        "    \"batch_size\": [200]\n",
        "}\n",
        "\n",
        "# Creazione di tutte le combinazioni di iperparametri\n",
        "grid_combinations = list(itertools.product(\n",
        "    GRID_SEARCH['learning_rate'],\n",
        "    GRID_SEARCH['epochs'],\n",
        "    GRID_SEARCH['neurons_1layer'],\n",
        "    GRID_SEARCH['neurons_2layer'],\n",
        "    GRID_SEARCH['activation_functions'],\n",
        "    GRID_SEARCH['batch_size']\n",
        "))\n",
        "\n",
        "# Variabili per tenere traccia dei migliori iperparametri\n",
        "best_params = None\n",
        "best_val_loss = np.inf\n",
        "\n",
        "# Ciclo per testare ogni combinazione di iperparametri\n",
        "for combination in grid_combinations:\n",
        "    learning_rate, epochs, neurons_1layer, neurons_2layer, activation_function, batch_size = combination\n",
        "\n",
        "    print(f\"Testing combination: lr={learning_rate}, epochs={epochs}, neurons_1layer={neurons_1layer}, neurons_2layer={neurons_2layer}, activation={activation_function}, batch_size={batch_size}\")\n",
        "\n",
        "    # Creazione del modello con i parametri correnti\n",
        "    model = create_network(X_train.shape[1], neurons_1layer, neurons_2layer, activation_function)\n",
        "\n",
        "    # Compilazione del modello\n",
        "    model.compile(\n",
        "        loss='sparse_categorical_crossentropy',\n",
        "        optimizer=tf.keras.optimizers.Adam(learning_rate=learning_rate),\n",
        "        metrics=['accuracy']\n",
        "    )\n",
        "\n",
        "    # Addestramento del modello\n",
        "    history = model.fit(\n",
        "        X_train, y_train,\n",
        "        validation_data=(X_val, y_val),\n",
        "        epochs=epochs,\n",
        "        batch_size=batch_size,\n",
        "        verbose=0  # Nessun output durante la ricerca\n",
        "    )\n",
        "\n",
        "    # Valutazione della loss sul validation set\n",
        "    final_val_loss = history.history['val_loss'][-1]\n",
        "\n",
        "    print(f\"Validation loss: {final_val_loss}\")\n",
        "\n",
        "    # Aggiornamento dei migliori iperparametri\n",
        "    if final_val_loss < best_val_loss:\n",
        "        best_val_loss = final_val_loss\n",
        "        best_params = {\n",
        "            \"learning_rate\": learning_rate,\n",
        "            \"epochs\": epochs,\n",
        "            \"neurons_1layer\": neurons_1layer,\n",
        "            \"neurons_2layer\": neurons_2layer,\n",
        "            \"activation_function\": activation_function,\n",
        "            \"batch_size\": batch_size\n",
        "        }\n",
        "\n",
        "# Stampa dei migliori iperparametri\n",
        "print(\"Best hyperparameters found:\")\n",
        "print(best_params)\n",
        "print(f\"Best validation loss: {best_val_loss}\")"
      ],
      "metadata": {
        "id": "BBEV7EEkEAn_",
        "colab": {
          "base_uri": "https://localhost:8080/"
        },
        "outputId": "4968e4fe-aed0-42a8-dd99-4fe9c0112346"
      },
      "execution_count": null,
      "outputs": [
        {
          "output_type": "stream",
          "name": "stdout",
          "text": [
            "Testing combination: lr=0.001, epochs=5, neurons_1layer=50, neurons_2layer=30, activation=relu, batch_size=200\n",
            "Validation loss: 0.8212074637413025\n",
            "Testing combination: lr=0.001, epochs=5, neurons_1layer=50, neurons_2layer=30, activation=sigmoid, batch_size=200\n",
            "Validation loss: 0.9566015005111694\n",
            "Testing combination: lr=0.001, epochs=5, neurons_1layer=50, neurons_2layer=30, activation=tanh, batch_size=200\n",
            "Validation loss: 0.7999186515808105\n",
            "Testing combination: lr=0.001, epochs=5, neurons_1layer=50, neurons_2layer=50, activation=relu, batch_size=200\n",
            "Validation loss: 0.7991986870765686\n",
            "Testing combination: lr=0.001, epochs=5, neurons_1layer=50, neurons_2layer=50, activation=sigmoid, batch_size=200\n",
            "Validation loss: 0.95041823387146\n",
            "Testing combination: lr=0.001, epochs=5, neurons_1layer=50, neurons_2layer=50, activation=tanh, batch_size=200\n",
            "Validation loss: 0.8015680909156799\n",
            "Testing combination: lr=0.001, epochs=5, neurons_1layer=55, neurons_2layer=30, activation=relu, batch_size=200\n",
            "Validation loss: 0.8384783267974854\n",
            "Testing combination: lr=0.001, epochs=5, neurons_1layer=55, neurons_2layer=30, activation=sigmoid, batch_size=200\n",
            "Validation loss: 0.9770908355712891\n",
            "Testing combination: lr=0.001, epochs=5, neurons_1layer=55, neurons_2layer=30, activation=tanh, batch_size=200\n",
            "Validation loss: 0.8051646947860718\n",
            "Testing combination: lr=0.001, epochs=5, neurons_1layer=55, neurons_2layer=50, activation=relu, batch_size=200\n",
            "Validation loss: 0.8046279549598694\n",
            "Testing combination: lr=0.001, epochs=5, neurons_1layer=55, neurons_2layer=50, activation=sigmoid, batch_size=200\n",
            "Validation loss: 0.9514118432998657\n",
            "Testing combination: lr=0.001, epochs=5, neurons_1layer=55, neurons_2layer=50, activation=tanh, batch_size=200\n",
            "Validation loss: 0.7926000952720642\n",
            "Testing combination: lr=0.001, epochs=6, neurons_1layer=50, neurons_2layer=30, activation=relu, batch_size=200\n",
            "Validation loss: 0.8036346435546875\n",
            "Testing combination: lr=0.001, epochs=6, neurons_1layer=50, neurons_2layer=30, activation=sigmoid, batch_size=200\n",
            "Validation loss: 0.9463027119636536\n",
            "Testing combination: lr=0.001, epochs=6, neurons_1layer=50, neurons_2layer=30, activation=tanh, batch_size=200\n",
            "Validation loss: 0.7943423986434937\n",
            "Testing combination: lr=0.001, epochs=6, neurons_1layer=50, neurons_2layer=50, activation=relu, batch_size=200\n",
            "Validation loss: 0.7994786500930786\n",
            "Testing combination: lr=0.001, epochs=6, neurons_1layer=50, neurons_2layer=50, activation=sigmoid, batch_size=200\n",
            "Validation loss: 0.959399402141571\n",
            "Testing combination: lr=0.001, epochs=6, neurons_1layer=50, neurons_2layer=50, activation=tanh, batch_size=200\n",
            "Validation loss: 0.7937363386154175\n",
            "Testing combination: lr=0.001, epochs=6, neurons_1layer=55, neurons_2layer=30, activation=relu, batch_size=200\n",
            "Validation loss: 0.8000020384788513\n",
            "Testing combination: lr=0.001, epochs=6, neurons_1layer=55, neurons_2layer=30, activation=sigmoid, batch_size=200\n",
            "Validation loss: 0.9467664957046509\n",
            "Testing combination: lr=0.001, epochs=6, neurons_1layer=55, neurons_2layer=30, activation=tanh, batch_size=200\n",
            "Validation loss: 0.7965530753135681\n",
            "Testing combination: lr=0.001, epochs=6, neurons_1layer=55, neurons_2layer=50, activation=relu, batch_size=200\n",
            "Validation loss: 0.8031342029571533\n",
            "Testing combination: lr=0.001, epochs=6, neurons_1layer=55, neurons_2layer=50, activation=sigmoid, batch_size=200\n",
            "Validation loss: 0.9148557186126709\n",
            "Testing combination: lr=0.001, epochs=6, neurons_1layer=55, neurons_2layer=50, activation=tanh, batch_size=200\n",
            "Validation loss: 0.7920295596122742\n",
            "Testing combination: lr=0.001, epochs=7, neurons_1layer=50, neurons_2layer=30, activation=relu, batch_size=200\n",
            "Validation loss: 0.803740382194519\n",
            "Testing combination: lr=0.001, epochs=7, neurons_1layer=50, neurons_2layer=30, activation=sigmoid, batch_size=200\n",
            "Validation loss: 0.918830156326294\n",
            "Testing combination: lr=0.001, epochs=7, neurons_1layer=50, neurons_2layer=30, activation=tanh, batch_size=200\n",
            "Validation loss: 0.7971422076225281\n",
            "Testing combination: lr=0.001, epochs=7, neurons_1layer=50, neurons_2layer=50, activation=relu, batch_size=200\n",
            "Validation loss: 0.8033522963523865\n",
            "Testing combination: lr=0.001, epochs=7, neurons_1layer=50, neurons_2layer=50, activation=sigmoid, batch_size=200\n",
            "Validation loss: 0.9317987561225891\n",
            "Testing combination: lr=0.001, epochs=7, neurons_1layer=50, neurons_2layer=50, activation=tanh, batch_size=200\n",
            "Validation loss: 0.7873815894126892\n",
            "Testing combination: lr=0.001, epochs=7, neurons_1layer=55, neurons_2layer=30, activation=relu, batch_size=200\n",
            "Validation loss: 0.8037377595901489\n",
            "Testing combination: lr=0.001, epochs=7, neurons_1layer=55, neurons_2layer=30, activation=sigmoid, batch_size=200\n",
            "Validation loss: 0.9384710788726807\n",
            "Testing combination: lr=0.001, epochs=7, neurons_1layer=55, neurons_2layer=30, activation=tanh, batch_size=200\n",
            "Validation loss: 0.7925112247467041\n",
            "Testing combination: lr=0.001, epochs=7, neurons_1layer=55, neurons_2layer=50, activation=relu, batch_size=200\n",
            "Validation loss: 0.8007709980010986\n",
            "Testing combination: lr=0.001, epochs=7, neurons_1layer=55, neurons_2layer=50, activation=sigmoid, batch_size=200\n",
            "Validation loss: 0.905407190322876\n",
            "Testing combination: lr=0.001, epochs=7, neurons_1layer=55, neurons_2layer=50, activation=tanh, batch_size=200\n",
            "Validation loss: 0.7864890694618225\n",
            "Testing combination: lr=0.001, epochs=8, neurons_1layer=50, neurons_2layer=30, activation=relu, batch_size=200\n",
            "Validation loss: 0.8057959079742432\n",
            "Testing combination: lr=0.001, epochs=8, neurons_1layer=50, neurons_2layer=30, activation=sigmoid, batch_size=200\n",
            "Validation loss: 0.9235981106758118\n",
            "Testing combination: lr=0.001, epochs=8, neurons_1layer=50, neurons_2layer=30, activation=tanh, batch_size=200\n",
            "Validation loss: 0.7870603203773499\n",
            "Testing combination: lr=0.001, epochs=8, neurons_1layer=50, neurons_2layer=50, activation=relu, batch_size=200\n",
            "Validation loss: 0.7941986322402954\n",
            "Testing combination: lr=0.001, epochs=8, neurons_1layer=50, neurons_2layer=50, activation=sigmoid, batch_size=200\n",
            "Validation loss: 0.8868527412414551\n",
            "Testing combination: lr=0.001, epochs=8, neurons_1layer=50, neurons_2layer=50, activation=tanh, batch_size=200\n",
            "Validation loss: 0.7900147438049316\n",
            "Testing combination: lr=0.001, epochs=8, neurons_1layer=55, neurons_2layer=30, activation=relu, batch_size=200\n",
            "Validation loss: 0.7947937250137329\n",
            "Testing combination: lr=0.001, epochs=8, neurons_1layer=55, neurons_2layer=30, activation=sigmoid, batch_size=200\n",
            "Validation loss: 0.9040992856025696\n",
            "Testing combination: lr=0.001, epochs=8, neurons_1layer=55, neurons_2layer=30, activation=tanh, batch_size=200\n",
            "Validation loss: 0.7853111624717712\n",
            "Testing combination: lr=0.001, epochs=8, neurons_1layer=55, neurons_2layer=50, activation=relu, batch_size=200\n",
            "Validation loss: 0.7852657437324524\n",
            "Testing combination: lr=0.001, epochs=8, neurons_1layer=55, neurons_2layer=50, activation=sigmoid, batch_size=200\n",
            "Validation loss: 0.8982976078987122\n",
            "Testing combination: lr=0.001, epochs=8, neurons_1layer=55, neurons_2layer=50, activation=tanh, batch_size=200\n",
            "Validation loss: 0.7944220900535583\n",
            "Testing combination: lr=0.001, epochs=9, neurons_1layer=50, neurons_2layer=30, activation=relu, batch_size=200\n",
            "Validation loss: 0.7878312468528748\n",
            "Testing combination: lr=0.001, epochs=9, neurons_1layer=50, neurons_2layer=30, activation=sigmoid, batch_size=200\n",
            "Validation loss: 0.8817422986030579\n",
            "Testing combination: lr=0.001, epochs=9, neurons_1layer=50, neurons_2layer=30, activation=tanh, batch_size=200\n",
            "Validation loss: 0.7971571087837219\n",
            "Testing combination: lr=0.001, epochs=9, neurons_1layer=50, neurons_2layer=50, activation=relu, batch_size=200\n",
            "Validation loss: 0.8023867607116699\n",
            "Testing combination: lr=0.001, epochs=9, neurons_1layer=50, neurons_2layer=50, activation=sigmoid, batch_size=200\n",
            "Validation loss: 0.8689281940460205\n",
            "Testing combination: lr=0.001, epochs=9, neurons_1layer=50, neurons_2layer=50, activation=tanh, batch_size=200\n",
            "Validation loss: 0.7859581112861633\n",
            "Testing combination: lr=0.001, epochs=9, neurons_1layer=55, neurons_2layer=30, activation=relu, batch_size=200\n",
            "Validation loss: 0.7893439531326294\n",
            "Testing combination: lr=0.001, epochs=9, neurons_1layer=55, neurons_2layer=30, activation=sigmoid, batch_size=200\n",
            "Validation loss: 0.8899610638618469\n",
            "Testing combination: lr=0.001, epochs=9, neurons_1layer=55, neurons_2layer=30, activation=tanh, batch_size=200\n",
            "Validation loss: 0.7875096201896667\n",
            "Testing combination: lr=0.001, epochs=9, neurons_1layer=55, neurons_2layer=50, activation=relu, batch_size=200\n",
            "Validation loss: 0.789991021156311\n",
            "Testing combination: lr=0.001, epochs=9, neurons_1layer=55, neurons_2layer=50, activation=sigmoid, batch_size=200\n",
            "Validation loss: 0.8706008195877075\n",
            "Testing combination: lr=0.001, epochs=9, neurons_1layer=55, neurons_2layer=50, activation=tanh, batch_size=200\n",
            "Validation loss: 0.7987210154533386\n",
            "Testing combination: lr=0.001, epochs=10, neurons_1layer=50, neurons_2layer=30, activation=relu, batch_size=200\n",
            "Validation loss: 0.7915691137313843\n",
            "Testing combination: lr=0.001, epochs=10, neurons_1layer=50, neurons_2layer=30, activation=sigmoid, batch_size=200\n",
            "Validation loss: 0.9136047959327698\n",
            "Testing combination: lr=0.001, epochs=10, neurons_1layer=50, neurons_2layer=30, activation=tanh, batch_size=200\n",
            "Validation loss: 0.7890347242355347\n",
            "Testing combination: lr=0.001, epochs=10, neurons_1layer=50, neurons_2layer=50, activation=relu, batch_size=200\n",
            "Validation loss: 0.7938007712364197\n",
            "Testing combination: lr=0.001, epochs=10, neurons_1layer=50, neurons_2layer=50, activation=sigmoid, batch_size=200\n",
            "Validation loss: 0.8627008199691772\n",
            "Testing combination: lr=0.001, epochs=10, neurons_1layer=50, neurons_2layer=50, activation=tanh, batch_size=200\n",
            "Validation loss: 0.7888136506080627\n",
            "Testing combination: lr=0.001, epochs=10, neurons_1layer=55, neurons_2layer=30, activation=relu, batch_size=200\n",
            "Validation loss: 0.7945331335067749\n",
            "Testing combination: lr=0.001, epochs=10, neurons_1layer=55, neurons_2layer=30, activation=sigmoid, batch_size=200\n",
            "Validation loss: 0.8962326645851135\n",
            "Testing combination: lr=0.001, epochs=10, neurons_1layer=55, neurons_2layer=30, activation=tanh, batch_size=200\n",
            "Validation loss: 0.7893778085708618\n",
            "Testing combination: lr=0.001, epochs=10, neurons_1layer=55, neurons_2layer=50, activation=relu, batch_size=200\n",
            "Validation loss: 0.7892404794692993\n",
            "Testing combination: lr=0.001, epochs=10, neurons_1layer=55, neurons_2layer=50, activation=sigmoid, batch_size=200\n",
            "Validation loss: 0.864140510559082\n",
            "Testing combination: lr=0.001, epochs=10, neurons_1layer=55, neurons_2layer=50, activation=tanh, batch_size=200\n",
            "Validation loss: 0.7993138432502747\n",
            "Best hyperparameters found:\n",
            "{'learning_rate': 0.001, 'epochs': 8, 'neurons_1layer': 55, 'neurons_2layer': 50, 'activation_function': 'relu', 'batch_size': 200}\n",
            "Best validation loss: 0.7852657437324524\n"
          ]
        }
      ]
    },
    {
      "cell_type": "markdown",
      "source": [
        "## Addestramento del modello con i migliori iperparametri\n",
        "Utilizziamo la migliore combinazione di iperparametri per addestrare il modello finale."
      ],
      "metadata": {
        "id": "wlOfIWeREDP_"
      }
    },
    {
      "cell_type": "code",
      "source": [
        "# Migliori iperparametri trovati\n",
        "best_params = {'learning_rate': 0.001, 'epochs': 8, 'neurons_1layer': 55, 'neurons_2layer': 50, 'activation_function': 'relu', 'batch_size': 200}\n",
        "\n",
        "# Creazione del modello con i migliori iperparametri\n",
        "best_model = create_network(\n",
        "    X_train.shape[1],\n",
        "    best_params[\"neurons_1layer\"],\n",
        "    best_params[\"neurons_2layer\"],\n",
        "    best_params[\"activation_function\"]\n",
        ")\n",
        "\n",
        "# Compilazione del modello\n",
        "best_model.compile(\n",
        "    loss='sparse_categorical_crossentropy',\n",
        "    optimizer=tf.keras.optimizers.Adam(learning_rate=best_params[\"learning_rate\"]),\n",
        "    metrics=['accuracy']\n",
        ")\n",
        "\n",
        "# Addestramento del modello\n",
        "best_history = best_model.fit(\n",
        "    X_train, y_train,\n",
        "    validation_data=(X_val, y_val),\n",
        "    epochs=best_params[\"epochs\"],\n",
        "    batch_size=best_params[\"batch_size\"],\n",
        "    verbose=1  # Mostra il progresso\n",
        ")\n",
        "\n",
        "# Valutazione del modello sul validation set\n",
        "final_val_loss = best_history.history['val_loss'][-1]\n",
        "final_val_accuracy = best_history.history['val_accuracy'][-1]\n",
        "\n",
        "print(f\"Final validation loss with best hyperparameters: {final_val_loss}\")\n",
        "print(f\"Final validation accuracy with best hyperparameters: {final_val_accuracy}\")"
      ],
      "metadata": {
        "id": "5D2mGfjHEFdD",
        "colab": {
          "base_uri": "https://localhost:8080/"
        },
        "outputId": "894c42de-fe49-4cc3-ea10-97e841b8b04b"
      },
      "execution_count": null,
      "outputs": [
        {
          "output_type": "stream",
          "name": "stdout",
          "text": [
            "Epoch 1/8\n",
            "\u001b[1m17/17\u001b[0m \u001b[32m━━━━━━━━━━━━━━━━━━━━\u001b[0m\u001b[37m\u001b[0m \u001b[1m2s\u001b[0m 22ms/step - accuracy: 0.4546 - loss: 1.0512 - val_accuracy: 0.5876 - val_loss: 0.9477\n",
            "Epoch 2/8\n",
            "\u001b[1m17/17\u001b[0m \u001b[32m━━━━━━━━━━━━━━━━━━━━\u001b[0m\u001b[37m\u001b[0m \u001b[1m0s\u001b[0m 9ms/step - accuracy: 0.5897 - loss: 0.9288 - val_accuracy: 0.5975 - val_loss: 0.8814\n",
            "Epoch 3/8\n",
            "\u001b[1m17/17\u001b[0m \u001b[32m━━━━━━━━━━━━━━━━━━━━\u001b[0m\u001b[37m\u001b[0m \u001b[1m0s\u001b[0m 21ms/step - accuracy: 0.6194 - loss: 0.8528 - val_accuracy: 0.6124 - val_loss: 0.8348\n",
            "Epoch 4/8\n",
            "\u001b[1m17/17\u001b[0m \u001b[32m━━━━━━━━━━━━━━━━━━━━\u001b[0m\u001b[37m\u001b[0m \u001b[1m0s\u001b[0m 7ms/step - accuracy: 0.6353 - loss: 0.8216 - val_accuracy: 0.6373 - val_loss: 0.8071\n",
            "Epoch 5/8\n",
            "\u001b[1m17/17\u001b[0m \u001b[32m━━━━━━━━━━━━━━━━━━━━\u001b[0m\u001b[37m\u001b[0m \u001b[1m0s\u001b[0m 17ms/step - accuracy: 0.6649 - loss: 0.7776 - val_accuracy: 0.6360 - val_loss: 0.7930\n",
            "Epoch 6/8\n",
            "\u001b[1m17/17\u001b[0m \u001b[32m━━━━━━━━━━━━━━━━━━━━\u001b[0m\u001b[37m\u001b[0m \u001b[1m1s\u001b[0m 15ms/step - accuracy: 0.6775 - loss: 0.7469 - val_accuracy: 0.6385 - val_loss: 0.7894\n",
            "Epoch 7/8\n",
            "\u001b[1m17/17\u001b[0m \u001b[32m━━━━━━━━━━━━━━━━━━━━\u001b[0m\u001b[37m\u001b[0m \u001b[1m0s\u001b[0m 8ms/step - accuracy: 0.6607 - loss: 0.7604 - val_accuracy: 0.6373 - val_loss: 0.7857\n",
            "Epoch 8/8\n",
            "\u001b[1m17/17\u001b[0m \u001b[32m━━━━━━━━━━━━━━━━━━━━\u001b[0m\u001b[37m\u001b[0m \u001b[1m0s\u001b[0m 17ms/step - accuracy: 0.6884 - loss: 0.7116 - val_accuracy: 0.6410 - val_loss: 0.7814\n",
            "Final validation loss with best hyperparameters: 0.7814202904701233\n",
            "Final validation accuracy with best hyperparameters: 0.6409937739372253\n"
          ]
        }
      ]
    },
    {
      "cell_type": "markdown",
      "source": [
        "## Visualizzazione delle prestazioni del modello\n",
        "Visualizziamo l'andamento della loss durante l'addestramento."
      ],
      "metadata": {
        "id": "mLAv_pqKEGOw"
      }
    },
    {
      "cell_type": "code",
      "source": [
        "# Plot della loss durante l'addestramento\n",
        "plt.figure(figsize=(8, 6))\n",
        "plt.plot(best_history.history['loss'], label='Train Loss')\n",
        "plt.plot(best_history.history['val_loss'], label='Validation Loss')\n",
        "plt.title('Model Loss')\n",
        "plt.xlabel('Epoch')\n",
        "plt.ylabel('Loss')\n",
        "plt.legend()\n",
        "plt.show()"
      ],
      "metadata": {
        "id": "yuGjpJoqEIuk",
        "colab": {
          "base_uri": "https://localhost:8080/",
          "height": 540
        },
        "outputId": "a5618a79-11d7-449e-e977-9a069fc4b081"
      },
      "execution_count": null,
      "outputs": [
        {
          "output_type": "display_data",
          "data": {
            "text/plain": [
              "<Figure size 800x600 with 1 Axes>"
            ],
            "image/png": "[encoded data removed]"
          },
          "metadata": {}
        }
      ]
    },
    {
      "cell_type": "markdown",
      "source": [
        "## Salvataggio del modello\n",
        "Salviamo il modello addestrato per un uso futuro."
      ],
      "metadata": {
        "id": "zkxhG5WIEJRB"
      }
    },
    {
      "cell_type": "code",
      "source": [
        "# Salvataggio del modello\n",
        "best_model.save(\"best_model.h5\")"
      ],
      "metadata": {
        "id": "vf84wuX1ELiq",
        "colab": {
          "base_uri": "https://localhost:8080/"
        },
        "outputId": "99d61463-d752-474f-b84a-68324c0ac8af"
      },
      "execution_count": null,
      "outputs": [
        {
          "output_type": "stream",
          "name": "stderr",
          "text": [
            "WARNING:absl:You are saving your model as an HDF5 file via `model.save()` or `keras.saving.save_model(model)`. This file format is considered legacy. We recommend using instead the native Keras format, e.g. `model.save('my_model.keras')` or `keras.saving.save_model(model, 'my_model.keras')`. \n"
          ]
        }
      ]
    },
    {
      "cell_type": "markdown",
      "source": [
        "# FINAL TEST"
      ],
      "metadata": {
        "id": "X0pDbuAaESrB"
      }
    },
    {
      "cell_type": "markdown",
      "source": [
        "## Importazione delle librerie necessarie\n",
        "Iniziamo importando le librerie necessarie per caricare il modello pre-addestrato e valutare le sue prestazioni sul test set."
      ],
      "metadata": {
        "id": "MWe1Qk6kEWB4"
      }
    },
    {
      "cell_type": "code",
      "source": [
        "from tensorflow.keras.models import load_model\n",
        "import pandas as pd\n",
        "from sklearn.metrics import classification_report"
      ],
      "metadata": {
        "id": "QDNdzVqREXbO"
      },
      "execution_count": null,
      "outputs": []
    },
    {
      "cell_type": "markdown",
      "source": [
        "## Caricamento del test set\n",
        "Carichiamo il test set (`test_set.csv`) che è stato precedentemente preparato e separato dal dataset principale."
      ],
      "metadata": {
        "id": "Hq5812PvEZSl"
      }
    },
    {
      "cell_type": "code",
      "source": [
        "# Caricamento del test set\n",
        "ts = pd.read_csv(\"test_set.csv\", index_col=False)\n",
        "\n",
        "# Separazione delle feature (X) e del target (y)\n",
        "ts_x = ts.drop('result', axis=1)\n",
        "ts_y = ts['result']"
      ],
      "metadata": {
        "id": "CZJgob2aEbL2"
      },
      "execution_count": null,
      "outputs": []
    },
    {
      "cell_type": "markdown",
      "source": [
        "## Caricamento del modello pre-addestrato\n",
        "Carichiamo il modello pre-addestrato salvato in precedenza (`best_model.h5`) e visualizziamo un riepilogo della sua architettura."
      ],
      "metadata": {
        "id": "IruGiiowEdFZ"
      }
    },
    {
      "cell_type": "code",
      "source": [
        "# Caricamento del modello pre-addestrato\n",
        "best_model = load_model('best_model.h5')\n",
        "\n",
        "# Visualizzazione del riepilogo del modello\n",
        "print(\"Riepilogo del modello:\")\n",
        "print(best_model.summary())"
      ],
      "metadata": {
        "id": "wZaiy0e8EeYs",
        "colab": {
          "base_uri": "https://localhost:8080/",
          "height": 394
        },
        "outputId": "4cc84cf8-6f8a-4c91-c736-76fe86c4ea22"
      },
      "execution_count": null,
      "outputs": [
        {
          "output_type": "stream",
          "name": "stderr",
          "text": [
            "WARNING:absl:Compiled the loaded model, but the compiled metrics have yet to be built. `model.compile_metrics` will be empty until you train or evaluate the model.\n"
          ]
        },
        {
          "output_type": "stream",
          "name": "stdout",
          "text": [
            "Riepilogo del modello:\n"
          ]
        },
        {
          "output_type": "display_data",
          "data": {
            "text/plain": [
              "\u001b[1mModel: \"neural_net\"\u001b[0m\n"
            ],
            "text/html": [
              "<pre style=\"white-space:pre;overflow-x:auto;line-height:normal;font-family:Menlo,'DejaVu Sans Mono',consolas,'Courier New',monospace\"><span style=\"font-weight: bold\">Model: \"neural_net\"</span>\n",
              "</pre>\n"
            ]
          },
          "metadata": {}
        },
        {
          "output_type": "display_data",
          "data": {
            "text/plain": [
              "┏━━━━━━━━━━━━━━━━━━━━━━━━━━━━━━━━━━━━━━┳━━━━━━━━━━━━━━━━━━━━━━━━━━━━━┳━━━━━━━━━━━━━━━━━┓\n",
              "┃\u001b[1m \u001b[0m\u001b[1mLayer (type)                        \u001b[0m\u001b[1m \u001b[0m┃\u001b[1m \u001b[0m\u001b[1mOutput Shape               \u001b[0m\u001b[1m \u001b[0m┃\u001b[1m \u001b[0m\u001b[1m        Param #\u001b[0m\u001b[1m \u001b[0m┃\n",
              "┡━━━━━━━━━━━━━━━━━━━━━━━━━━━━━━━━━━━━━━╇━━━━━━━━━━━━━━━━━━━━━━━━━━━━━╇━━━━━━━━━━━━━━━━━┩\n",
              "│ input_layer_73 (\u001b[38;5;33mInputLayer\u001b[0m)          │ (\u001b[38;5;45mNone\u001b[0m, \u001b[38;5;34m273\u001b[0m)                 │               \u001b[38;5;34m0\u001b[0m │\n",
              "├──────────────────────────────────────┼─────────────────────────────┼─────────────────┤\n",
              "│ dense_219 (\u001b[38;5;33mDense\u001b[0m)                    │ (\u001b[38;5;45mNone\u001b[0m, \u001b[38;5;34m55\u001b[0m)                  │          \u001b[38;5;34m15,070\u001b[0m │\n",
              "├──────────────────────────────────────┼─────────────────────────────┼─────────────────┤\n",
              "│ dense_220 (\u001b[38;5;33mDense\u001b[0m)                    │ (\u001b[38;5;45mNone\u001b[0m, \u001b[38;5;34m50\u001b[0m)                  │           \u001b[38;5;34m2,800\u001b[0m │\n",
              "├──────────────────────────────────────┼─────────────────────────────┼─────────────────┤\n",
              "│ dropout_73 (\u001b[38;5;33mDropout\u001b[0m)                 │ (\u001b[38;5;45mNone\u001b[0m, \u001b[38;5;34m50\u001b[0m)                  │               \u001b[38;5;34m0\u001b[0m │\n",
              "├──────────────────────────────────────┼─────────────────────────────┼─────────────────┤\n",
              "│ dense_221 (\u001b[38;5;33mDense\u001b[0m)                    │ (\u001b[38;5;45mNone\u001b[0m, \u001b[38;5;34m3\u001b[0m)                   │             \u001b[38;5;34m153\u001b[0m │\n",
              "└──────────────────────────────────────┴─────────────────────────────┴─────────────────┘\n"
            ],
            "text/html": [
              "<pre style=\"white-space:pre;overflow-x:auto;line-height:normal;font-family:Menlo,'DejaVu Sans Mono',consolas,'Courier New',monospace\">┏━━━━━━━━━━━━━━━━━━━━━━━━━━━━━━━━━━━━━━┳━━━━━━━━━━━━━━━━━━━━━━━━━━━━━┳━━━━━━━━━━━━━━━━━┓\n",
              "┃<span style=\"font-weight: bold\"> Layer (type)                         </span>┃<span style=\"font-weight: bold\"> Output Shape                </span>┃<span style=\"font-weight: bold\">         Param # </span>┃\n",
              "┡━━━━━━━━━━━━━━━━━━━━━━━━━━━━━━━━━━━━━━╇━━━━━━━━━━━━━━━━━━━━━━━━━━━━━╇━━━━━━━━━━━━━━━━━┩\n",
              "│ input_layer_73 (<span style=\"color: #0087ff; text-decoration-color: #0087ff\">InputLayer</span>)          │ (<span style=\"color: #00d7ff; text-decoration-color: #00d7ff\">None</span>, <span style=\"color: #00af00; text-decoration-color: #00af00\">273</span>)                 │               <span style=\"color: #00af00; text-decoration-color: #00af00\">0</span> │\n",
              "├──────────────────────────────────────┼─────────────────────────────┼─────────────────┤\n",
              "│ dense_219 (<span style=\"color: #0087ff; text-decoration-color: #0087ff\">Dense</span>)                    │ (<span style=\"color: #00d7ff; text-decoration-color: #00d7ff\">None</span>, <span style=\"color: #00af00; text-decoration-color: #00af00\">55</span>)                  │          <span style=\"color: #00af00; text-decoration-color: #00af00\">15,070</span> │\n",
              "├──────────────────────────────────────┼─────────────────────────────┼─────────────────┤\n",
              "│ dense_220 (<span style=\"color: #0087ff; text-decoration-color: #0087ff\">Dense</span>)                    │ (<span style=\"color: #00d7ff; text-decoration-color: #00d7ff\">None</span>, <span style=\"color: #00af00; text-decoration-color: #00af00\">50</span>)                  │           <span style=\"color: #00af00; text-decoration-color: #00af00\">2,800</span> │\n",
              "├──────────────────────────────────────┼─────────────────────────────┼─────────────────┤\n",
              "│ dropout_73 (<span style=\"color: #0087ff; text-decoration-color: #0087ff\">Dropout</span>)                 │ (<span style=\"color: #00d7ff; text-decoration-color: #00d7ff\">None</span>, <span style=\"color: #00af00; text-decoration-color: #00af00\">50</span>)                  │               <span style=\"color: #00af00; text-decoration-color: #00af00\">0</span> │\n",
              "├──────────────────────────────────────┼─────────────────────────────┼─────────────────┤\n",
              "│ dense_221 (<span style=\"color: #0087ff; text-decoration-color: #0087ff\">Dense</span>)                    │ (<span style=\"color: #00d7ff; text-decoration-color: #00d7ff\">None</span>, <span style=\"color: #00af00; text-decoration-color: #00af00\">3</span>)                   │             <span style=\"color: #00af00; text-decoration-color: #00af00\">153</span> │\n",
              "└──────────────────────────────────────┴─────────────────────────────┴─────────────────┘\n",
              "</pre>\n"
            ]
          },
          "metadata": {}
        },
        {
          "output_type": "display_data",
          "data": {
            "text/plain": [
              "\u001b[1m Total params: \u001b[0m\u001b[38;5;34m18,025\u001b[0m (70.41 KB)\n"
            ],
            "text/html": [
              "<pre style=\"white-space:pre;overflow-x:auto;line-height:normal;font-family:Menlo,'DejaVu Sans Mono',consolas,'Courier New',monospace\"><span style=\"font-weight: bold\"> Total params: </span><span style=\"color: #00af00; text-decoration-color: #00af00\">18,025</span> (70.41 KB)\n",
              "</pre>\n"
            ]
          },
          "metadata": {}
        },
        {
          "output_type": "display_data",
          "data": {
            "text/plain": [
              "\u001b[1m Trainable params: \u001b[0m\u001b[38;5;34m18,023\u001b[0m (70.40 KB)\n"
            ],
            "text/html": [
              "<pre style=\"white-space:pre;overflow-x:auto;line-height:normal;font-family:Menlo,'DejaVu Sans Mono',consolas,'Courier New',monospace\"><span style=\"font-weight: bold\"> Trainable params: </span><span style=\"color: #00af00; text-decoration-color: #00af00\">18,023</span> (70.40 KB)\n",
              "</pre>\n"
            ]
          },
          "metadata": {}
        },
        {
          "output_type": "display_data",
          "data": {
            "text/plain": [
              "\u001b[1m Non-trainable params: \u001b[0m\u001b[38;5;34m0\u001b[0m (0.00 B)\n"
            ],
            "text/html": [
              "<pre style=\"white-space:pre;overflow-x:auto;line-height:normal;font-family:Menlo,'DejaVu Sans Mono',consolas,'Courier New',monospace\"><span style=\"font-weight: bold\"> Non-trainable params: </span><span style=\"color: #00af00; text-decoration-color: #00af00\">0</span> (0.00 B)\n",
              "</pre>\n"
            ]
          },
          "metadata": {}
        },
        {
          "output_type": "display_data",
          "data": {
            "text/plain": [
              "\u001b[1m Optimizer params: \u001b[0m\u001b[38;5;34m2\u001b[0m (12.00 B)\n"
            ],
            "text/html": [
              "<pre style=\"white-space:pre;overflow-x:auto;line-height:normal;font-family:Menlo,'DejaVu Sans Mono',consolas,'Courier New',monospace\"><span style=\"font-weight: bold\"> Optimizer params: </span><span style=\"color: #00af00; text-decoration-color: #00af00\">2</span> (12.00 B)\n",
              "</pre>\n"
            ]
          },
          "metadata": {}
        },
        {
          "output_type": "stream",
          "name": "stdout",
          "text": [
            "None\n"
          ]
        }
      ]
    },
    {
      "cell_type": "markdown",
      "source": [
        "## Valutazione del modello sul test set\n",
        "Valutiamo le prestazioni del modello sul test set calcolando la loss e l'accuratezza."
      ],
      "metadata": {
        "id": "_MY2gK1eEgvz"
      }
    },
    {
      "cell_type": "code",
      "source": [
        "# Valutazione del modello sul test set\n",
        "test_loss, test_accuracy = best_model.evaluate(ts_x, ts_y, verbose=1)\n",
        "\n",
        "# Stampa della loss e dell'accuratezza\n",
        "print(f\"Test loss: {test_loss}\")\n",
        "print(f\"Test accuracy: {test_accuracy}\")"
      ],
      "metadata": {
        "id": "RAbsHLd8Eh0j",
        "colab": {
          "base_uri": "https://localhost:8080/"
        },
        "outputId": "b048f3e0-fff5-4310-a0b4-664e917222fc"
      },
      "execution_count": null,
      "outputs": [
        {
          "output_type": "stream",
          "name": "stdout",
          "text": [
            "\u001b[1m24/24\u001b[0m \u001b[32m━━━━━━━━━━━━━━━━━━━━\u001b[0m\u001b[37m\u001b[0m \u001b[1m0s\u001b[0m 1ms/step - accuracy: 0.6930 - loss: 0.7624  \n",
            "Test loss: 0.7810816764831543\n",
            "Test accuracy: 0.6714848875999451\n"
          ]
        }
      ]
    },
    {
      "cell_type": "markdown",
      "source": [
        "## Report di classificazione\n",
        "Generiamo un report di classificazione per valutare le prestazioni del modello in termini di precisione, recall e F1-score."
      ],
      "metadata": {
        "id": "L7N-ymv4EkI1"
      }
    },
    {
      "cell_type": "code",
      "source": [
        "# Predizione delle classi sul test set\n",
        "y_pred = best_model.predict(ts_x)\n",
        "y_pred_classes = np.argmax(y_pred, axis=1)\n",
        "\n",
        "# Generazione del report di classificazione\n",
        "print(\"\\nReport di classificazione:\")\n",
        "print(classification_report(ts_y, y_pred_classes))"
      ],
      "metadata": {
        "id": "D28Z69BWElOt",
        "colab": {
          "base_uri": "https://localhost:8080/"
        },
        "outputId": "410443e1-c729-4f0e-c4da-c34b04417e84"
      },
      "execution_count": null,
      "outputs": [
        {
          "output_type": "stream",
          "name": "stdout",
          "text": [
            "\u001b[1m24/24\u001b[0m \u001b[32m━━━━━━━━━━━━━━━━━━━━\u001b[0m\u001b[37m\u001b[0m \u001b[1m0s\u001b[0m 3ms/step\n",
            "\n",
            "Report di classificazione:\n",
            "              precision    recall  f1-score   support\n",
            "\n",
            "           0       0.47      0.14      0.21       161\n",
            "           1       0.68      0.84      0.75       331\n",
            "           2       0.70      0.78      0.74       269\n",
            "\n",
            "    accuracy                           0.67       761\n",
            "   macro avg       0.61      0.59      0.57       761\n",
            "weighted avg       0.64      0.67      0.63       761\n",
            "\n"
          ]
        }
      ]
    },
    {
      "cell_type": "markdown",
      "source": [
        "## Visualizzazione della matrice di confusione\n",
        "Visualizziamo la matrice di confusione per comprendere meglio le performance del modello."
      ],
      "metadata": {
        "id": "EZrfzSvUEmXF"
      }
    },
    {
      "cell_type": "code",
      "source": [
        "from sklearn.metrics import confusion_matrix\n",
        "import seaborn as sns\n",
        "import matplotlib.pyplot as plt\n",
        "\n",
        "# Calcolo della matrice di confusione\n",
        "conf_matrix = confusion_matrix(ts_y, y_pred_classes)\n",
        "\n",
        "# Visualizzazione della matrice di confusione\n",
        "plt.figure(figsize=(8, 6))\n",
        "sns.heatmap(conf_matrix, annot=True, fmt='d', cmap='Blues',\n",
        "            xticklabels=['Loss', 'Draw', 'Win'],\n",
        "            yticklabels=['Loss', 'Draw', 'Win'])\n",
        "plt.xlabel('Predicted')\n",
        "plt.ylabel('Actual')\n",
        "plt.title('Matrice di Confusione')\n",
        "plt.show()"
      ],
      "metadata": {
        "id": "SMPfzZ3ZEoQ0",
        "colab": {
          "base_uri": "https://localhost:8080/",
          "height": 564
        },
        "outputId": "16d0283e-bbf7-4f00-a435-4803c1d76444"
      },
      "execution_count": null,
      "outputs": [
        {
          "output_type": "display_data",
          "data": {
            "text/plain": [
              "<Figure size 800x600 with 2 Axes>"
            ],
            "image/png": "[encoded data removed]"
          },
          "metadata": {}
        }
      ]
    },
    {
      "cell_type": "markdown",
      "source": [
        "## Salvataggio dei risultati\n",
        "Salviamo i risultati della valutazione in un file di testo per un riferimento futuro."
      ],
      "metadata": {
        "id": "csk-pPtyEri1"
      }
    },
    {
      "cell_type": "code",
      "source": [
        "# Salvataggio dei risultati in un file di testo\n",
        "with open(\"test_results.txt\", \"w\") as f:\n",
        "    f.write(f\"Test loss: {test_loss}\\n\")\n",
        "    f.write(f\"Test accuracy: {test_accuracy}\\n\")\n",
        "    f.write(\"\\nReport di classificazione:\\n\")\n",
        "    f.write(classification_report(ts_y, y_pred_classes))"
      ],
      "metadata": {
        "id": "o7G0_d_3EsXt"
      },
      "execution_count": null,
      "outputs": []
    }
  ]
}